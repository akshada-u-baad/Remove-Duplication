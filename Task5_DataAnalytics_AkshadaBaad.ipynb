{
 "cells": [
  {
   "cell_type": "markdown",
   "id": "f244764a",
   "metadata": {},
   "source": [
    "# Task5 : Remove Duplication"
   ]
  },
  {
   "cell_type": "markdown",
   "id": "46474aa0",
   "metadata": {},
   "source": [
    "Name: Akshada Uttam Baad"
   ]
  },
  {
   "cell_type": "code",
   "execution_count": 6,
   "id": "b1161d01",
   "metadata": {},
   "outputs": [],
   "source": [
    "import pandas as pd\n",
    "\n",
    "# Load the dataset into a DataFrame\n",
    "data = pd.read_csv('D:\\software\\python\\Datasets\\Iris.csv')\n"
   ]
  },
  {
   "cell_type": "code",
   "execution_count": 7,
   "id": "91b765f5",
   "metadata": {},
   "outputs": [],
   "source": [
    "# Check for and remove duplicate rows\n",
    "data_no_duplicates = data.drop_duplicates()\n"
   ]
  },
  {
   "cell_type": "code",
   "execution_count": 8,
   "id": "e15004a2",
   "metadata": {},
   "outputs": [],
   "source": [
    "# Remove duplicates based on specific columns\n",
    "data_no_duplicates = data.drop_duplicates(subset=['SepalLengthCm', 'SepalWidthCm'])\n"
   ]
  },
  {
   "cell_type": "code",
   "execution_count": 5,
   "id": "7801340b",
   "metadata": {},
   "outputs": [
    {
     "name": "stdout",
     "output_type": "stream",
     "text": [
      "Number of rows before removing duplicates: 150\n",
      "Number of rows after removing duplicates: 116\n"
     ]
    }
   ],
   "source": [
    "# Check the number of rows before and after removing duplicates\n",
    "original_rows = len(data)\n",
    "cleaned_rows = len(data_no_duplicates)\n",
    "print(f\"Number of rows before removing duplicates: {original_rows}\")\n",
    "print(f\"Number of rows after removing duplicates: {cleaned_rows}\")\n"
   ]
  }
 ],
 "metadata": {
  "kernelspec": {
   "display_name": "Python 3 (ipykernel)",
   "language": "python",
   "name": "python3"
  },
  "language_info": {
   "codemirror_mode": {
    "name": "ipython",
    "version": 3
   },
   "file_extension": ".py",
   "mimetype": "text/x-python",
   "name": "python",
   "nbconvert_exporter": "python",
   "pygments_lexer": "ipython3",
   "version": "3.10.9"
  }
 },
 "nbformat": 4,
 "nbformat_minor": 5
}
